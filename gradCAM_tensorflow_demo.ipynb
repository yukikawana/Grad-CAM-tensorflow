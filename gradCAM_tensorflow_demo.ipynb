{
 "cells": [
  {
   "cell_type": "markdown",
   "metadata": {},
   "source": [
    "# GradCAM Visualization Demo with VGG16\n"
   ]
  },
  {
   "cell_type": "code",
   "execution_count": 1,
   "metadata": {
    "collapsed": true
   },
   "outputs": [],
   "source": [
    "# Replace vanila relu to guided relu to get guided backpropagation.\n",
    "import tensorflow as tf\n",
    "\n",
    "from tensorflow.python.framework import ops\n",
    "from tensorflow.python.ops import gen_nn_ops\n",
    "\n",
    "@ops.RegisterGradient(\"GuidedRelu\")\n",
    "def _GuidedReluGrad(op, grad):\n",
    "    return tf.select(0. < grad, gen_nn_ops._relu_grad(grad, op.outputs[0]), tf.zeros(grad.get_shape()))"
   ]
  },
  {
   "cell_type": "code",
   "execution_count": 26,
   "metadata": {
    "collapsed": false
   },
   "outputs": [
    {
     "name": "stdout",
     "output_type": "stream",
     "text": [
      "/home/john/Documents/gradCAM_tensorflow/model/vgg16.npy\n",
      "npy file loaded\n",
      "build model started\n",
      "build model finished: 0s\n",
      "Top1:  n02108089 boxer 0.420142\n",
      "Top5:  [('n02108089 boxer', 0.42014152), ('n02108422 bull mastiff', 0.28162268), ('n02123159 tiger cat', 0.053449955), ('n02129604 tiger, Panthera tigris', 0.050134838), ('n02109047 Great Dane', 0.04980772)]\n"
     ]
    },
    {
     "data": {
      "text/plain": [
       "<matplotlib.figure.Figure at 0x7fac882cfc18>"
      ]
     },
     "metadata": {},
     "output_type": "display_data"
    },
    {
     "data": {
      "text/plain": [
       "<matplotlib.figure.Figure at 0x7fac8ccd5e10>"
      ]
     },
     "metadata": {},
     "output_type": "display_data"
    },
    {
     "data": {
      "text/plain": [
       "<matplotlib.figure.Figure at 0x7fac3461b898>"
      ]
     },
     "metadata": {},
     "output_type": "display_data"
    },
    {
     "data": {
      "text/plain": [
       "<matplotlib.figure.Figure at 0x7fac8d1642e8>"
      ]
     },
     "metadata": {},
     "output_type": "display_data"
    },
    {
     "name": "stdout",
     "output_type": "stream",
     "text": [
      "Top1:  n02086240 Shih-Tzu 0.748966\n",
      "Top5:  [('n02086240 Shih-Tzu', 0.74896568), ('n02098413 Lhasa, Lhasa apso', 0.20148376), ('n02086646 Blenheim spaniel', 0.021774856), ('n02086079 Pekinese, Pekingese, Peke', 0.015152379), ('n02097474 Tibetan terrier, chrysanthemum dog', 0.0022452387)]\n"
     ]
    },
    {
     "data": {
      "text/plain": [
       "<matplotlib.figure.Figure at 0x7fac8832a4e0>"
      ]
     },
     "metadata": {},
     "output_type": "display_data"
    },
    {
     "data": {
      "text/plain": [
       "<matplotlib.figure.Figure at 0x7fac708a5940>"
      ]
     },
     "metadata": {},
     "output_type": "display_data"
    },
    {
     "data": {
      "text/plain": [
       "<matplotlib.figure.Figure at 0x7fac6075fb70>"
      ]
     },
     "metadata": {},
     "output_type": "display_data"
    },
    {
     "data": {
      "text/plain": [
       "<matplotlib.figure.Figure at 0x7fac3467fc50>"
      ]
     },
     "metadata": {},
     "output_type": "display_data"
    },
    {
     "name": "stdout",
     "output_type": "stream",
     "text": [
      "Top1:  n02129604 tiger, Panthera tigris 0.82099\n",
      "Top5:  [('n02129604 tiger, Panthera tigris', 0.82099038), ('n02123159 tiger cat', 0.17724575), ('n02128925 jaguar, panther, Panthera onca, Felis onca', 0.0012660659), ('n02127052 lynx, catamount', 0.00020411435), ('n02128385 leopard, Panthera pardus', 0.00016284313)]\n"
     ]
    },
    {
     "data": {
      "text/plain": [
       "<matplotlib.figure.Figure at 0x7fac70d95c88>"
      ]
     },
     "metadata": {},
     "output_type": "display_data"
    },
    {
     "data": {
      "text/plain": [
       "<matplotlib.figure.Figure at 0x7fac6071eb70>"
      ]
     },
     "metadata": {},
     "output_type": "display_data"
    },
    {
     "data": {
      "text/plain": [
       "<matplotlib.figure.Figure at 0x7fac8d0e77f0>"
      ]
     },
     "metadata": {},
     "output_type": "display_data"
    },
    {
     "data": {
      "text/plain": [
       "<matplotlib.figure.Figure at 0x7fac882b57b8>"
      ]
     },
     "metadata": {},
     "output_type": "display_data"
    }
   ],
   "source": [
    "%reload_ext autoreload\n",
    "%autoreload 2\n",
    "%matplotlib inline\n",
    "\n",
    "import numpy as np\n",
    "from model import vgg16\n",
    "import utils\n",
    "\n",
    "# Create mini-batch for demo\n",
    "\n",
    "img1 = utils.load_image(\"./demo.png\")\n",
    "img2 = utils.load_image(\"./shihtzu_mypuppy.jpg\")\n",
    "img3 = utils.load_image(\"./tiger.jpg\")\n",
    "\n",
    "batch1_img = img1.reshape((1, 224, 224, 3))\n",
    "batch1_label = np.array([1 if i == 244 else 0 for i in range(1000)])  # 1-hot result for Boxer\n",
    "batch1_label = batch1_label.reshape(1, -1)\n",
    "\n",
    "batch2_img = img2.reshape((1, 224, 224, 3))\n",
    "batch2_label = np.array([1 if i == 157 else 0 for i in range(1000)])  # 1-hot result for Shih-Tzu\n",
    "batch2_label = batch2_label.reshape(1, -1)\n",
    "\n",
    "batch3_img = img3.reshape((1, 224, 224, 3))\n",
    "batch3_label = np.array([1 if i == 292 else 0 for i in range(1000)])  # 1-hot result for tiger\n",
    "batch3_label = batch3_label.reshape(1, -1)\n",
    "\n",
    "batch_img = np.concatenate((batch1_img, batch2_img, batch3_img), 0)\n",
    "batch_label = np.concatenate((batch1_label, batch2_label, batch3_label), 0)\n",
    "\n",
    "batch_size = 3\n",
    "\n",
    "\n",
    "# Create tensorflow graph for evaluation\n",
    "eval_graph = tf.Graph()\n",
    "with eval_graph.as_default():\n",
    "    with eval_graph.gradient_override_map({'Relu': 'GuidedRelu'}):\n",
    "    \n",
    "        images = tf.placeholder(\"float\", [batch_size, 224, 224, 3])\n",
    "        labels = tf.placeholder(tf.float32, [batch_size, 1000])\n",
    "        train_mode = tf.placeholder(tf.bool)\n",
    "\n",
    "        vgg = vgg16.Vgg16()\n",
    "        \n",
    "        vgg.build(images, train_mode)\n",
    "        cost = tf.reduce_sum((vgg.prob - labels) ** 2)\n",
    "        train = tf.train.GradientDescentOptimizer(0.0001).minimize(cost)\n",
    "\n",
    "        # Get last convolutional layer gradient for generating gradCAM visualization\n",
    "        target_conv_layer = vgg.pool5\n",
    "        target_conv_layer_grad = tf.gradients(cost, target_conv_layer)[0]\n",
    "\n",
    "        # Guided backpropagtion back to input layer\n",
    "        gb_grad = tf.gradients(cost, images)[0]\n",
    "\n",
    "        # Normalizing the gradients    \n",
    "        target_conv_layer_grad_norm = tf.div(target_conv_layer_grad, tf.sqrt(tf.reduce_mean(tf.square(target_conv_layer_grad))) + tf.constant(1e-5))\n",
    "\n",
    "\n",
    "        init = tf.global_variables_initializer()\n",
    "\n",
    "        \n",
    "# Run tensorflow \n",
    "\n",
    "with tf.Session(graph=eval_graph) as sess:    \n",
    "    sess.run(init)\n",
    "    \n",
    "    prob = sess.run(vgg.prob, feed_dict={images: batch_img, train_mode: False})\n",
    "    \n",
    "    gb_grad_value, target_conv_layer_value, target_conv_layer_grad_value = sess.run([gb_grad, target_conv_layer, target_conv_layer_grad_norm], feed_dict={images: batch_img, labels: batch_label, train_mode: True})\n",
    "    \n",
    "    for i in range(batch_size):\n",
    "        utils.print_prob(prob[i], './synset.txt')\n",
    "        utils.visualize(batch_img[i], target_conv_layer_value[i], target_conv_layer_grad_value[i], gb_grad_value[i])\n",
    "    "
   ]
  }
 ],
 "metadata": {
  "kernelspec": {
   "display_name": "Python 3",
   "language": "python",
   "name": "python3"
  },
  "language_info": {
   "codemirror_mode": {
    "name": "ipython",
    "version": 3
   },
   "file_extension": ".py",
   "mimetype": "text/x-python",
   "name": "python",
   "nbconvert_exporter": "python",
   "pygments_lexer": "ipython3",
   "version": "3.4.3"
  }
 },
 "nbformat": 4,
 "nbformat_minor": 1
}
